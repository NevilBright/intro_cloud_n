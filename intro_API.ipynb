{
 "cells": [
  {
   "cell_type": "code",
   "execution_count": 3,
   "metadata": {},
   "outputs": [],
   "source": [
    "import credential as cr\n",
    "import requests\n",
    "import pandas as pd\n",
    "import json\n",
    "pd.set_option('display.max_columns', 500)\n",
    "# Set your Alpha Vantage API Key\n"
   ]
  },
  {
   "cell_type": "code",
   "execution_count": 6,
   "metadata": {},
   "outputs": [
    {
     "ename": "ValueError",
     "evalue": "If using all scalar values, you must pass an index",
     "output_type": "error",
     "traceback": [
      "\u001b[1;31m---------------------------------------------------------------------------\u001b[0m",
      "\u001b[1;31mValueError\u001b[0m                                Traceback (most recent call last)",
      "Cell \u001b[1;32mIn[6], line 5\u001b[0m\n\u001b[0;32m      3\u001b[0m r_search \u001b[38;5;241m=\u001b[39m requests\u001b[38;5;241m.\u001b[39mget(url)\n\u001b[0;32m      4\u001b[0m js_search \u001b[38;5;241m=\u001b[39m r_search\u001b[38;5;241m.\u001b[39mjson()\n\u001b[1;32m----> 5\u001b[0m df_search\u001b[38;5;241m=\u001b[39m\u001b[43mpd\u001b[49m\u001b[38;5;241;43m.\u001b[39;49m\u001b[43mDataFrame\u001b[49m\u001b[43m(\u001b[49m\u001b[43mjs_search\u001b[49m\u001b[43m)\u001b[49m\n\u001b[0;32m      6\u001b[0m display(df_search)\n",
      "File \u001b[1;32mc:\\Users\\user\\OneDrive\\Documents\\GitHub\\intro_cloud_n\\.venv\\Lib\\site-packages\\pandas\\core\\frame.py:778\u001b[0m, in \u001b[0;36mDataFrame.__init__\u001b[1;34m(self, data, index, columns, dtype, copy)\u001b[0m\n\u001b[0;32m    772\u001b[0m     mgr \u001b[38;5;241m=\u001b[39m \u001b[38;5;28mself\u001b[39m\u001b[38;5;241m.\u001b[39m_init_mgr(\n\u001b[0;32m    773\u001b[0m         data, axes\u001b[38;5;241m=\u001b[39m{\u001b[38;5;124m\"\u001b[39m\u001b[38;5;124mindex\u001b[39m\u001b[38;5;124m\"\u001b[39m: index, \u001b[38;5;124m\"\u001b[39m\u001b[38;5;124mcolumns\u001b[39m\u001b[38;5;124m\"\u001b[39m: columns}, dtype\u001b[38;5;241m=\u001b[39mdtype, copy\u001b[38;5;241m=\u001b[39mcopy\n\u001b[0;32m    774\u001b[0m     )\n\u001b[0;32m    776\u001b[0m \u001b[38;5;28;01melif\u001b[39;00m \u001b[38;5;28misinstance\u001b[39m(data, \u001b[38;5;28mdict\u001b[39m):\n\u001b[0;32m    777\u001b[0m     \u001b[38;5;66;03m# GH#38939 de facto copy defaults to False only in non-dict cases\u001b[39;00m\n\u001b[1;32m--> 778\u001b[0m     mgr \u001b[38;5;241m=\u001b[39m \u001b[43mdict_to_mgr\u001b[49m\u001b[43m(\u001b[49m\u001b[43mdata\u001b[49m\u001b[43m,\u001b[49m\u001b[43m \u001b[49m\u001b[43mindex\u001b[49m\u001b[43m,\u001b[49m\u001b[43m \u001b[49m\u001b[43mcolumns\u001b[49m\u001b[43m,\u001b[49m\u001b[43m \u001b[49m\u001b[43mdtype\u001b[49m\u001b[38;5;241;43m=\u001b[39;49m\u001b[43mdtype\u001b[49m\u001b[43m,\u001b[49m\u001b[43m \u001b[49m\u001b[43mcopy\u001b[49m\u001b[38;5;241;43m=\u001b[39;49m\u001b[43mcopy\u001b[49m\u001b[43m,\u001b[49m\u001b[43m \u001b[49m\u001b[43mtyp\u001b[49m\u001b[38;5;241;43m=\u001b[39;49m\u001b[43mmanager\u001b[49m\u001b[43m)\u001b[49m\n\u001b[0;32m    779\u001b[0m \u001b[38;5;28;01melif\u001b[39;00m \u001b[38;5;28misinstance\u001b[39m(data, ma\u001b[38;5;241m.\u001b[39mMaskedArray):\n\u001b[0;32m    780\u001b[0m     \u001b[38;5;28;01mfrom\u001b[39;00m \u001b[38;5;21;01mnumpy\u001b[39;00m\u001b[38;5;21;01m.\u001b[39;00m\u001b[38;5;21;01mma\u001b[39;00m \u001b[38;5;28;01mimport\u001b[39;00m mrecords\n",
      "File \u001b[1;32mc:\\Users\\user\\OneDrive\\Documents\\GitHub\\intro_cloud_n\\.venv\\Lib\\site-packages\\pandas\\core\\internals\\construction.py:503\u001b[0m, in \u001b[0;36mdict_to_mgr\u001b[1;34m(data, index, columns, dtype, typ, copy)\u001b[0m\n\u001b[0;32m    499\u001b[0m     \u001b[38;5;28;01melse\u001b[39;00m:\n\u001b[0;32m    500\u001b[0m         \u001b[38;5;66;03m# dtype check to exclude e.g. range objects, scalars\u001b[39;00m\n\u001b[0;32m    501\u001b[0m         arrays \u001b[38;5;241m=\u001b[39m [x\u001b[38;5;241m.\u001b[39mcopy() \u001b[38;5;28;01mif\u001b[39;00m \u001b[38;5;28mhasattr\u001b[39m(x, \u001b[38;5;124m\"\u001b[39m\u001b[38;5;124mdtype\u001b[39m\u001b[38;5;124m\"\u001b[39m) \u001b[38;5;28;01melse\u001b[39;00m x \u001b[38;5;28;01mfor\u001b[39;00m x \u001b[38;5;129;01min\u001b[39;00m arrays]\n\u001b[1;32m--> 503\u001b[0m \u001b[38;5;28;01mreturn\u001b[39;00m \u001b[43marrays_to_mgr\u001b[49m\u001b[43m(\u001b[49m\u001b[43marrays\u001b[49m\u001b[43m,\u001b[49m\u001b[43m \u001b[49m\u001b[43mcolumns\u001b[49m\u001b[43m,\u001b[49m\u001b[43m \u001b[49m\u001b[43mindex\u001b[49m\u001b[43m,\u001b[49m\u001b[43m \u001b[49m\u001b[43mdtype\u001b[49m\u001b[38;5;241;43m=\u001b[39;49m\u001b[43mdtype\u001b[49m\u001b[43m,\u001b[49m\u001b[43m \u001b[49m\u001b[43mtyp\u001b[49m\u001b[38;5;241;43m=\u001b[39;49m\u001b[43mtyp\u001b[49m\u001b[43m,\u001b[49m\u001b[43m \u001b[49m\u001b[43mconsolidate\u001b[49m\u001b[38;5;241;43m=\u001b[39;49m\u001b[43mcopy\u001b[49m\u001b[43m)\u001b[49m\n",
      "File \u001b[1;32mc:\\Users\\user\\OneDrive\\Documents\\GitHub\\intro_cloud_n\\.venv\\Lib\\site-packages\\pandas\\core\\internals\\construction.py:114\u001b[0m, in \u001b[0;36marrays_to_mgr\u001b[1;34m(arrays, columns, index, dtype, verify_integrity, typ, consolidate)\u001b[0m\n\u001b[0;32m    111\u001b[0m \u001b[38;5;28;01mif\u001b[39;00m verify_integrity:\n\u001b[0;32m    112\u001b[0m     \u001b[38;5;66;03m# figure out the index, if necessary\u001b[39;00m\n\u001b[0;32m    113\u001b[0m     \u001b[38;5;28;01mif\u001b[39;00m index \u001b[38;5;129;01mis\u001b[39;00m \u001b[38;5;28;01mNone\u001b[39;00m:\n\u001b[1;32m--> 114\u001b[0m         index \u001b[38;5;241m=\u001b[39m \u001b[43m_extract_index\u001b[49m\u001b[43m(\u001b[49m\u001b[43marrays\u001b[49m\u001b[43m)\u001b[49m\n\u001b[0;32m    115\u001b[0m     \u001b[38;5;28;01melse\u001b[39;00m:\n\u001b[0;32m    116\u001b[0m         index \u001b[38;5;241m=\u001b[39m ensure_index(index)\n",
      "File \u001b[1;32mc:\\Users\\user\\OneDrive\\Documents\\GitHub\\intro_cloud_n\\.venv\\Lib\\site-packages\\pandas\\core\\internals\\construction.py:667\u001b[0m, in \u001b[0;36m_extract_index\u001b[1;34m(data)\u001b[0m\n\u001b[0;32m    664\u001b[0m         \u001b[38;5;28;01mraise\u001b[39;00m \u001b[38;5;167;01mValueError\u001b[39;00m(\u001b[38;5;124m\"\u001b[39m\u001b[38;5;124mPer-column arrays must each be 1-dimensional\u001b[39m\u001b[38;5;124m\"\u001b[39m)\n\u001b[0;32m    666\u001b[0m \u001b[38;5;28;01mif\u001b[39;00m \u001b[38;5;129;01mnot\u001b[39;00m indexes \u001b[38;5;129;01mand\u001b[39;00m \u001b[38;5;129;01mnot\u001b[39;00m raw_lengths:\n\u001b[1;32m--> 667\u001b[0m     \u001b[38;5;28;01mraise\u001b[39;00m \u001b[38;5;167;01mValueError\u001b[39;00m(\u001b[38;5;124m\"\u001b[39m\u001b[38;5;124mIf using all scalar values, you must pass an index\u001b[39m\u001b[38;5;124m\"\u001b[39m)\n\u001b[0;32m    669\u001b[0m \u001b[38;5;28;01mif\u001b[39;00m have_series:\n\u001b[0;32m    670\u001b[0m     index \u001b[38;5;241m=\u001b[39m union_indexes(indexes)\n",
      "\u001b[1;31mValueError\u001b[0m: If using all scalar values, you must pass an index"
     ]
    }
   ],
   "source": [
    "search_keyword='meta'\n",
    "url = 'https://www.alphavantage.co/query?function=SYMBOL_SEARCH&keywords={searchKeyword}&apikey={apiKey}'.format(apiKey=cr.AV_API_key, searchKeyword=search_keyword)\n",
    "r_search = requests.get(url)\n",
    "js_search = r_search.json()\n",
    "df_search=pd.DataFrame(js_search)\n",
    "display(df_search)"
   ]
  },
  {
   "cell_type": "code",
   "execution_count": 5,
   "metadata": {},
   "outputs": [
    {
     "name": "stdout",
     "output_type": "stream",
     "text": [
      "Requirement already satisfied: requests in c:\\users\\user\\onedrive\\documents\\github\\intro_cloud_n\\.venv\\lib\\site-packages (2.32.3)\n",
      "Requirement already satisfied: charset-normalizer<4,>=2 in c:\\users\\user\\onedrive\\documents\\github\\intro_cloud_n\\.venv\\lib\\site-packages (from requests) (3.4.0)\n",
      "Requirement already satisfied: idna<4,>=2.5 in c:\\users\\user\\onedrive\\documents\\github\\intro_cloud_n\\.venv\\lib\\site-packages (from requests) (3.10)\n",
      "Requirement already satisfied: urllib3<3,>=1.21.1 in c:\\users\\user\\onedrive\\documents\\github\\intro_cloud_n\\.venv\\lib\\site-packages (from requests) (2.2.3)\n",
      "Requirement already satisfied: certifi>=2017.4.17 in c:\\users\\user\\onedrive\\documents\\github\\intro_cloud_n\\.venv\\lib\\site-packages (from requests) (2024.8.30)\n",
      "Note: you may need to restart the kernel to use updated packages.\n"
     ]
    }
   ],
   "source": [
    "pip install requests"
   ]
  },
  {
   "cell_type": "code",
   "execution_count": 11,
   "metadata": {},
   "outputs": [
    {
     "data": {
      "text/plain": [
       "{'Date': 'Fri, 18 Oct 2024 11:38:52 GMT', 'Content-Type': 'application/json', 'Transfer-Encoding': 'chunked', 'Connection': 'keep-alive', 'Report-To': '{\"group\":\"heroku-nel\",\"max_age\":3600,\"endpoints\":[{\"url\":\"https://nel.heroku.com/reports?ts=1729251532&sid=1b10b0ff-8a76-4548-befa-353fc6c6c045&s=1%2BYu6adLHtcTwJzK1XL7M1BKpbdcTW4GxEB0t48j8%2B0%3D\"}]}', 'Reporting-Endpoints': 'heroku-nel=https://nel.heroku.com/reports?ts=1729251532&sid=1b10b0ff-8a76-4548-befa-353fc6c6c045&s=1%2BYu6adLHtcTwJzK1XL7M1BKpbdcTW4GxEB0t48j8%2B0%3D', 'Nel': '{\"report_to\":\"heroku-nel\",\"max_age\":3600,\"success_fraction\":0.005,\"failure_fraction\":0.05,\"response_headers\":[\"Via\"]}', 'Allow': 'GET, HEAD, OPTIONS', 'X-Frame-Options': 'DENY', 'Vary': 'Cookie, Origin', 'X-Content-Type-Options': 'nosniff', 'Referrer-Policy': 'same-origin', 'Cross-Origin-Opener-Policy': 'same-origin', 'Via': '1.1 vegur', 'cf-cache-status': 'DYNAMIC', 'Server': 'cloudflare', 'CF-RAY': '8d483e9f09f24dca-FRA', 'Content-Encoding': 'gzip'}"
      ]
     },
     "execution_count": 11,
     "metadata": {},
     "output_type": "execute_result"
    }
   ],
   "source": [
    "r_search.headers"
   ]
  },
  {
   "cell_type": "code",
   "execution_count": 12,
   "metadata": {},
   "outputs": [
    {
     "data": {
      "text/plain": [
       "b'{\\n    \"bestMatches\": [\\n        {\\n            \"1. symbol\": \"META\",\\n            \"2. name\": \"Meta Platforms Inc - Class A\",\\n            \"3. type\": \"Equity\",\\n            \"4. region\": \"United States\",\\n            \"5. marketOpen\": \"09:30\",\\n            \"6. marketClose\": \"16:00\",\\n            \"7. timezone\": \"UTC-04\",\\n            \"8. currency\": \"USD\",\\n            \"9. matchScore\": \"1.0000\"\\n        },\\n        {\\n            \"1. symbol\": \"METAX\",\\n            \"2. name\": \"ALPS METIS GLOBAL MICRO CAP VALUE FUND INVESTOR SHARES\",\\n            \"3. type\": \"Mutual Fund\",\\n            \"4. region\": \"United States\",\\n            \"5. marketOpen\": \"09:30\",\\n            \"6. marketClose\": \"16:00\",\\n            \"7. timezone\": \"UTC-04\",\\n            \"8. currency\": \"USD\",\\n            \"9. matchScore\": \"0.8889\"\\n        },\\n        {\\n            \"1. symbol\": \"META.LON\",\\n            \"2. name\": \"WisdomTree Industrial Metals Enhanced\",\\n            \"3. type\": \"ETF\",\\n            \"4. region\": \"United Kingdom\",\\n            \"5. marketOpen\": \"08:00\",\\n            \"6. marketClose\": \"16:30\",\\n            \"7. timezone\": \"UTC+01\",\\n            \"8. currency\": \"USD\",\\n            \"9. matchScore\": \"0.8000\"\\n        },\\n        {\\n            \"1. symbol\": \"METEX.PAR\",\\n            \"2. name\": \"Metabolic Explorer SA\",\\n            \"3. type\": \"Equity\",\\n            \"4. region\": \"Paris\",\\n            \"5. marketOpen\": \"09:00\",\\n            \"6. marketClose\": \"17:30\",\\n            \"7. timezone\": \"UTC+02\",\\n            \"8. currency\": \"EUR\",\\n            \"9. matchScore\": \"0.6667\"\\n        },\\n        {\\n            \"1. symbol\": \"META11.SAO\",\\n            \"2. name\": \"Hashdex Crypto Metaverse Fundo De Indice\",\\n            \"3. type\": \"ETF\",\\n            \"4. region\": \"Brazil/Sao Paolo\",\\n            \"5. marketOpen\": \"10:00\",\\n            \"6. marketClose\": \"17:30\",\\n            \"7. timezone\": \"UTC-03\",\\n            \"8. currency\": \"BRL\",\\n            \"9. matchScore\": \"0.6154\"\\n        },\\n        {\\n            \"1. symbol\": \"METALCO.BSE\",\\n            \"2. name\": \"METAL COATINGS (INDIA) LTD.\",\\n            \"3. type\": \"Equity\",\\n            \"4. region\": \"India/Bombay\",\\n            \"5. marketOpen\": \"09:15\",\\n            \"6. marketClose\": \"15:30\",\\n            \"7. timezone\": \"UTC+5.5\",\\n            \"8. currency\": \"INR\",\\n            \"9. matchScore\": \"0.5714\"\\n        },\\n        {\\n            \"1. symbol\": \"M16.FRK\",\\n            \"2. name\": \"METACON AB B\",\\n            \"3. type\": \"Equity\",\\n            \"4. region\": \"Frankfurt\",\\n            \"5. marketOpen\": \"08:00\",\\n            \"6. marketClose\": \"20:00\",\\n            \"7. timezone\": \"UTC+02\",\\n            \"8. currency\": \"EUR\",\\n            \"9. matchScore\": \"0.5000\"\\n        },\\n        {\\n            \"1. symbol\": \"METALFORGE.BSE\",\\n            \"2. name\": \"Metalyst Forgings Limited\",\\n            \"3. type\": \"Equity\",\\n            \"4. region\": \"India/Bombay\",\\n            \"5. marketOpen\": \"09:15\",\\n            \"6. marketClose\": \"15:30\",\\n            \"7. timezone\": \"UTC+5.5\",\\n            \"8. currency\": \"INR\",\\n            \"9. matchScore\": \"0.4706\"\\n        },\\n        {\\n            \"1. symbol\": \"7ME.FRK\",\\n            \"2. name\": \"METabolic EXplorer S.A\",\\n            \"3. type\": \"Equity\",\\n            \"4. region\": \"Frankfurt\",\\n            \"5. marketOpen\": \"08:00\",\\n            \"6. marketClose\": \"20:00\",\\n            \"7. timezone\": \"UTC+02\",\\n            \"8. currency\": \"EUR\",\\n            \"9. matchScore\": \"0.4444\"\\n        },\\n        {\\n            \"1. symbol\": \"MAV.FRK\",\\n            \"2. name\": \"METADVERTISE EO-10\",\\n            \"3. type\": \"Equity\",\\n            \"4. region\": \"Frankfurt\",\\n            \"5. marketOpen\": \"08:00\",\\n            \"6. marketClose\": \"20:00\",\\n            \"7. timezone\": \"UTC+02\",\\n            \"8. currency\": \"EUR\",\\n            \"9. matchScore\": \"0.4444\"\\n        }\\n    ]\\n}'"
      ]
     },
     "execution_count": 12,
     "metadata": {},
     "output_type": "execute_result"
    }
   ],
   "source": [
    "r_search.content"
   ]
  },
  {
   "cell_type": "code",
   "execution_count": 13,
   "metadata": {},
   "outputs": [
    {
     "data": {
      "text/plain": [
       "{'1. symbol': 'META',\n",
       " '2. name': 'Meta Platforms Inc - Class A',\n",
       " '3. type': 'Equity',\n",
       " '4. region': 'United States',\n",
       " '5. marketOpen': '09:30',\n",
       " '6. marketClose': '16:00',\n",
       " '7. timezone': 'UTC-04',\n",
       " '8. currency': 'USD',\n",
       " '9. matchScore': '1.0000'}"
      ]
     },
     "execution_count": 13,
     "metadata": {},
     "output_type": "execute_result"
    }
   ],
   "source": [
    "df_search['bestMatches'][0]"
   ]
  },
  {
   "cell_type": "code",
   "execution_count": 14,
   "metadata": {},
   "outputs": [
    {
     "data": {
      "text/html": [
       "<div>\n",
       "<style scoped>\n",
       "    .dataframe tbody tr th:only-of-type {\n",
       "        vertical-align: middle;\n",
       "    }\n",
       "\n",
       "    .dataframe tbody tr th {\n",
       "        vertical-align: top;\n",
       "    }\n",
       "\n",
       "    .dataframe thead th {\n",
       "        text-align: right;\n",
       "    }\n",
       "</style>\n",
       "<table border=\"1\" class=\"dataframe\">\n",
       "  <thead>\n",
       "    <tr style=\"text-align: right;\">\n",
       "      <th></th>\n",
       "      <th>1. symbol</th>\n",
       "      <th>2. name</th>\n",
       "      <th>3. type</th>\n",
       "      <th>4. region</th>\n",
       "      <th>5. marketOpen</th>\n",
       "      <th>6. marketClose</th>\n",
       "      <th>7. timezone</th>\n",
       "      <th>8. currency</th>\n",
       "      <th>9. matchScore</th>\n",
       "    </tr>\n",
       "  </thead>\n",
       "  <tbody>\n",
       "    <tr>\n",
       "      <th>0</th>\n",
       "      <td>META</td>\n",
       "      <td>Meta Platforms Inc - Class A</td>\n",
       "      <td>Equity</td>\n",
       "      <td>United States</td>\n",
       "      <td>09:30</td>\n",
       "      <td>16:00</td>\n",
       "      <td>UTC-04</td>\n",
       "      <td>USD</td>\n",
       "      <td>1.0000</td>\n",
       "    </tr>\n",
       "    <tr>\n",
       "      <th>1</th>\n",
       "      <td>METAX</td>\n",
       "      <td>ALPS METIS GLOBAL MICRO CAP VALUE FUND INVESTO...</td>\n",
       "      <td>Mutual Fund</td>\n",
       "      <td>United States</td>\n",
       "      <td>09:30</td>\n",
       "      <td>16:00</td>\n",
       "      <td>UTC-04</td>\n",
       "      <td>USD</td>\n",
       "      <td>0.8889</td>\n",
       "    </tr>\n",
       "    <tr>\n",
       "      <th>2</th>\n",
       "      <td>META.LON</td>\n",
       "      <td>WisdomTree Industrial Metals Enhanced</td>\n",
       "      <td>ETF</td>\n",
       "      <td>United Kingdom</td>\n",
       "      <td>08:00</td>\n",
       "      <td>16:30</td>\n",
       "      <td>UTC+01</td>\n",
       "      <td>USD</td>\n",
       "      <td>0.8000</td>\n",
       "    </tr>\n",
       "    <tr>\n",
       "      <th>3</th>\n",
       "      <td>METEX.PAR</td>\n",
       "      <td>Metabolic Explorer SA</td>\n",
       "      <td>Equity</td>\n",
       "      <td>Paris</td>\n",
       "      <td>09:00</td>\n",
       "      <td>17:30</td>\n",
       "      <td>UTC+02</td>\n",
       "      <td>EUR</td>\n",
       "      <td>0.6667</td>\n",
       "    </tr>\n",
       "    <tr>\n",
       "      <th>4</th>\n",
       "      <td>META11.SAO</td>\n",
       "      <td>Hashdex Crypto Metaverse Fundo De Indice</td>\n",
       "      <td>ETF</td>\n",
       "      <td>Brazil/Sao Paolo</td>\n",
       "      <td>10:00</td>\n",
       "      <td>17:30</td>\n",
       "      <td>UTC-03</td>\n",
       "      <td>BRL</td>\n",
       "      <td>0.6154</td>\n",
       "    </tr>\n",
       "    <tr>\n",
       "      <th>5</th>\n",
       "      <td>METALCO.BSE</td>\n",
       "      <td>METAL COATINGS (INDIA) LTD.</td>\n",
       "      <td>Equity</td>\n",
       "      <td>India/Bombay</td>\n",
       "      <td>09:15</td>\n",
       "      <td>15:30</td>\n",
       "      <td>UTC+5.5</td>\n",
       "      <td>INR</td>\n",
       "      <td>0.5714</td>\n",
       "    </tr>\n",
       "    <tr>\n",
       "      <th>6</th>\n",
       "      <td>M16.FRK</td>\n",
       "      <td>METACON AB B</td>\n",
       "      <td>Equity</td>\n",
       "      <td>Frankfurt</td>\n",
       "      <td>08:00</td>\n",
       "      <td>20:00</td>\n",
       "      <td>UTC+02</td>\n",
       "      <td>EUR</td>\n",
       "      <td>0.5000</td>\n",
       "    </tr>\n",
       "    <tr>\n",
       "      <th>7</th>\n",
       "      <td>METALFORGE.BSE</td>\n",
       "      <td>Metalyst Forgings Limited</td>\n",
       "      <td>Equity</td>\n",
       "      <td>India/Bombay</td>\n",
       "      <td>09:15</td>\n",
       "      <td>15:30</td>\n",
       "      <td>UTC+5.5</td>\n",
       "      <td>INR</td>\n",
       "      <td>0.4706</td>\n",
       "    </tr>\n",
       "    <tr>\n",
       "      <th>8</th>\n",
       "      <td>7ME.FRK</td>\n",
       "      <td>METabolic EXplorer S.A</td>\n",
       "      <td>Equity</td>\n",
       "      <td>Frankfurt</td>\n",
       "      <td>08:00</td>\n",
       "      <td>20:00</td>\n",
       "      <td>UTC+02</td>\n",
       "      <td>EUR</td>\n",
       "      <td>0.4444</td>\n",
       "    </tr>\n",
       "    <tr>\n",
       "      <th>9</th>\n",
       "      <td>MAV.FRK</td>\n",
       "      <td>METADVERTISE EO-10</td>\n",
       "      <td>Equity</td>\n",
       "      <td>Frankfurt</td>\n",
       "      <td>08:00</td>\n",
       "      <td>20:00</td>\n",
       "      <td>UTC+02</td>\n",
       "      <td>EUR</td>\n",
       "      <td>0.4444</td>\n",
       "    </tr>\n",
       "  </tbody>\n",
       "</table>\n",
       "</div>"
      ],
      "text/plain": [
       "        1. symbol                                            2. name  \\\n",
       "0            META                       Meta Platforms Inc - Class A   \n",
       "1           METAX  ALPS METIS GLOBAL MICRO CAP VALUE FUND INVESTO...   \n",
       "2        META.LON              WisdomTree Industrial Metals Enhanced   \n",
       "3       METEX.PAR                              Metabolic Explorer SA   \n",
       "4      META11.SAO           Hashdex Crypto Metaverse Fundo De Indice   \n",
       "5     METALCO.BSE                        METAL COATINGS (INDIA) LTD.   \n",
       "6         M16.FRK                                       METACON AB B   \n",
       "7  METALFORGE.BSE                          Metalyst Forgings Limited   \n",
       "8         7ME.FRK                             METabolic EXplorer S.A   \n",
       "9         MAV.FRK                                 METADVERTISE EO-10   \n",
       "\n",
       "       3. type         4. region 5. marketOpen 6. marketClose 7. timezone  \\\n",
       "0       Equity     United States         09:30          16:00      UTC-04   \n",
       "1  Mutual Fund     United States         09:30          16:00      UTC-04   \n",
       "2          ETF    United Kingdom         08:00          16:30      UTC+01   \n",
       "3       Equity             Paris         09:00          17:30      UTC+02   \n",
       "4          ETF  Brazil/Sao Paolo         10:00          17:30      UTC-03   \n",
       "5       Equity      India/Bombay         09:15          15:30     UTC+5.5   \n",
       "6       Equity         Frankfurt         08:00          20:00      UTC+02   \n",
       "7       Equity      India/Bombay         09:15          15:30     UTC+5.5   \n",
       "8       Equity         Frankfurt         08:00          20:00      UTC+02   \n",
       "9       Equity         Frankfurt         08:00          20:00      UTC+02   \n",
       "\n",
       "  8. currency 9. matchScore  \n",
       "0         USD        1.0000  \n",
       "1         USD        0.8889  \n",
       "2         USD        0.8000  \n",
       "3         EUR        0.6667  \n",
       "4         BRL        0.6154  \n",
       "5         INR        0.5714  \n",
       "6         EUR        0.5000  \n",
       "7         INR        0.4706  \n",
       "8         EUR        0.4444  \n",
       "9         EUR        0.4444  "
      ]
     },
     "execution_count": 14,
     "metadata": {},
     "output_type": "execute_result"
    }
   ],
   "source": [
    "pd.json_normalize(df_search['bestMatches'])"
   ]
  },
  {
   "cell_type": "code",
   "execution_count": null,
   "metadata": {},
   "outputs": [],
   "source": [
    "ticker_information=pd.DataFrame()\n",
    "ticker_list=['GOOGL','AAPL', 'META', 'AMZN', 'MSFT']\n",
    "for ticker in ticker_list :\n",
    "    r_overview = requests.get('https://www.alphavantage.co/query?function=OVERVIEW&symbol={ticker}&apikey={apiKey}'.format(apiKey=cr.AV_API_key, ticker=ticker))\n",
    "    js_overview=r_overview.json()\n",
    "    df_overview=pd.json_normalize(js_overview)\n",
    "    ticker_information=pd.concat([ticker_information, df_overview])\n",
    "    display(ticker_information.head())"
   ]
  },
  {
   "cell_type": "code",
   "execution_count": 1,
   "metadata": {},
   "outputs": [
    {
     "ename": "NameError",
     "evalue": "name 'pd' is not defined",
     "output_type": "error",
     "traceback": [
      "\u001b[1;31m---------------------------------------------------------------------------\u001b[0m",
      "\u001b[1;31mNameError\u001b[0m                                 Traceback (most recent call last)",
      "Cell \u001b[1;32mIn[1], line 1\u001b[0m\n\u001b[1;32m----> 1\u001b[0m ticker_time_series\u001b[38;5;241m=\u001b[39m\u001b[43mpd\u001b[49m\u001b[38;5;241m.\u001b[39mDataFrame()\n\u001b[0;32m      2\u001b[0m ticker_metadata\u001b[38;5;241m=\u001b[39mpd\u001b[38;5;241m.\u001b[39mDataFrame()\n\u001b[0;32m      3\u001b[0m ticker_list\u001b[38;5;241m=\u001b[39m[\u001b[38;5;124m'\u001b[39m\u001b[38;5;124mGOOGL\u001b[39m\u001b[38;5;124m'\u001b[39m,\u001b[38;5;124m'\u001b[39m\u001b[38;5;124mAAPL\u001b[39m\u001b[38;5;124m'\u001b[39m, \u001b[38;5;124m'\u001b[39m\u001b[38;5;124mMETA\u001b[39m\u001b[38;5;124m'\u001b[39m, \u001b[38;5;124m'\u001b[39m\u001b[38;5;124mAMZN\u001b[39m\u001b[38;5;124m'\u001b[39m, \u001b[38;5;124m'\u001b[39m\u001b[38;5;124mMSFT\u001b[39m\u001b[38;5;124m'\u001b[39m]\n",
      "\u001b[1;31mNameError\u001b[0m: name 'pd' is not defined"
     ]
    }
   ],
   "source": [
    "ticker_time_series=pd.DataFrame()\n",
    "ticker_metadata=pd.DataFrame()\n",
    "ticker_list=['GOOGL','AAPL', 'META', 'AMZN', 'MSFT']\n",
    "for ticker in ticker_list :\n",
    "    r_stock = requests.get('https://www.alphavantage.co/query?function=TIME_SERIES_DAILY&outputsize=full&symbol={ticker}&apikey={apiKey}'.format(apiKey=cr.AV_API_key, ticker=ticker))\n",
    "    js_stock = r_stock.json()\n",
    "    # Ticker time series to DataFrame\n",
    "    df_time_series=pd.DataFrame(js_stock['Time Series (Daily)'])\n",
    "    df_time_series['Ticker']=ticker\n",
    "    ticker_time_series=pd.concat([ticker_time_series, df_time_series])\n",
    "    # Ticker metadata to DataFrame\n",
    "    df_metadata=pd.json_normalize(js_stock['Meta Data'])\n",
    "    df_metadata['Ticker']=ticker\n",
    "    ticker_metadata=pd.concat([ticker_metadata, df_metadata])\n",
    "display(ticker_time_series.head())\n",
    "display(ticker_metadata.head())"
   ]
  },
  {
   "cell_type": "code",
   "execution_count": null,
   "metadata": {},
   "outputs": [],
   "source": []
  }
 ],
 "metadata": {
  "kernelspec": {
   "display_name": ".venv",
   "language": "python",
   "name": "python3"
  },
  "language_info": {
   "codemirror_mode": {
    "name": "ipython",
    "version": 3
   },
   "file_extension": ".py",
   "mimetype": "text/x-python",
   "name": "python",
   "nbconvert_exporter": "python",
   "pygments_lexer": "ipython3",
   "version": "3.12.6"
  }
 },
 "nbformat": 4,
 "nbformat_minor": 2
}
